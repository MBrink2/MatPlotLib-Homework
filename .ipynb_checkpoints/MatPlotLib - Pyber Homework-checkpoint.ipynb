{
 "cells": [
  {
   "cell_type": "code",
   "execution_count": 15,
   "metadata": {},
   "outputs": [
    {
     "data": {
      "text/html": [
       "<div>\n",
       "<style scoped>\n",
       "    .dataframe tbody tr th:only-of-type {\n",
       "        vertical-align: middle;\n",
       "    }\n",
       "\n",
       "    .dataframe tbody tr th {\n",
       "        vertical-align: top;\n",
       "    }\n",
       "\n",
       "    .dataframe thead th {\n",
       "        text-align: right;\n",
       "    }\n",
       "</style>\n",
       "<table border=\"1\" class=\"dataframe\">\n",
       "  <thead>\n",
       "    <tr style=\"text-align: right;\">\n",
       "      <th></th>\n",
       "      <th>city</th>\n",
       "      <th>driver_count</th>\n",
       "      <th>type</th>\n",
       "      <th>date</th>\n",
       "      <th>fare</th>\n",
       "      <th>ride_id</th>\n",
       "    </tr>\n",
       "  </thead>\n",
       "  <tbody>\n",
       "    <tr>\n",
       "      <th>0</th>\n",
       "      <td>Richardfort</td>\n",
       "      <td>38</td>\n",
       "      <td>Urban</td>\n",
       "      <td>2018-02-24 08:40:38</td>\n",
       "      <td>13.93</td>\n",
       "      <td>5628545007794</td>\n",
       "    </tr>\n",
       "    <tr>\n",
       "      <th>1</th>\n",
       "      <td>Richardfort</td>\n",
       "      <td>38</td>\n",
       "      <td>Urban</td>\n",
       "      <td>2018-02-13 12:46:07</td>\n",
       "      <td>14.00</td>\n",
       "      <td>910050116494</td>\n",
       "    </tr>\n",
       "    <tr>\n",
       "      <th>2</th>\n",
       "      <td>Richardfort</td>\n",
       "      <td>38</td>\n",
       "      <td>Urban</td>\n",
       "      <td>2018-02-16 13:52:19</td>\n",
       "      <td>17.92</td>\n",
       "      <td>820639054416</td>\n",
       "    </tr>\n",
       "    <tr>\n",
       "      <th>3</th>\n",
       "      <td>Richardfort</td>\n",
       "      <td>38</td>\n",
       "      <td>Urban</td>\n",
       "      <td>2018-02-01 20:18:28</td>\n",
       "      <td>10.26</td>\n",
       "      <td>9554935945413</td>\n",
       "    </tr>\n",
       "    <tr>\n",
       "      <th>4</th>\n",
       "      <td>Richardfort</td>\n",
       "      <td>38</td>\n",
       "      <td>Urban</td>\n",
       "      <td>2018-04-17 02:26:37</td>\n",
       "      <td>23.00</td>\n",
       "      <td>720020655850</td>\n",
       "    </tr>\n",
       "  </tbody>\n",
       "</table>\n",
       "</div>"
      ],
      "text/plain": [
       "          city  driver_count   type                 date   fare        ride_id\n",
       "0  Richardfort            38  Urban  2018-02-24 08:40:38  13.93  5628545007794\n",
       "1  Richardfort            38  Urban  2018-02-13 12:46:07  14.00   910050116494\n",
       "2  Richardfort            38  Urban  2018-02-16 13:52:19  17.92   820639054416\n",
       "3  Richardfort            38  Urban  2018-02-01 20:18:28  10.26  9554935945413\n",
       "4  Richardfort            38  Urban  2018-04-17 02:26:37  23.00   720020655850"
      ]
     },
     "execution_count": 15,
     "metadata": {},
     "output_type": "execute_result"
    }
   ],
   "source": [
    "#import dependencies\n",
    "import matplotlib.pyplot as plt\n",
    "import pandas as pd\n",
    "import numpy as np\n",
    "import os \n",
    "import statistics\n",
    "\n",
    "#files to load\n",
    "city_data_toload = \"data/city_data.csv\"\n",
    "ride_data_toload = \"data/ride_data.csv\"\n",
    "\n",
    "#read csv files\n",
    "city_path = os.path.join(\"city_data.csv\")\n",
    "ride_path = os.path.join(\"ride_data.csv\")\n",
    "city_data = pd.read_csv(city_path)\n",
    "ride_data = pd.read_csv(ride_path)\n",
    "\n",
    "#combine the data\n",
    "pyber_data_combined = pd.merge(city_data, ride_data,how='outer', on=\"city\")\n",
    "pyber_data_combined.head()\n"
   ]
  },
  {
   "cell_type": "code",
   "execution_count": 30,
   "metadata": {},
   "outputs": [],
   "source": [
    "#separate city types into different data frames\n",
    "urban_city = pyber_data_combined.loc[(pyber_data_combined[\"type\"] == \"Urban\")]\n",
    "suburban_city = pyber_data_combined.loc[(pyber_data_combined[\"type\"] == \"Suburban\")]\n",
    "rural_city = pyber_data_combined.loc[(pyber_data_combined[\"type\"] == \"Rural\")]"
   ]
  },
  {
   "cell_type": "code",
   "execution_count": 34,
   "metadata": {},
   "outputs": [],
   "source": [
    "#Y AXIS: Average Fare/X AXIS: Total Number of Rides/SIZE:Total Drivers Per City - Urban\n",
    "avg_fare_urban = urban_city.groupby(\"city\")['fare'].mean()\n",
    "total_rides_urban = urban_city.groupby(\"city\")[\"ride_id\"].count()\n",
    "total_drivers_urban = urban_city.groupby(\"city\")['driver_count'].value_counts()\n",
    "\n",
    "#Y AXIS: Average Fare/X AXIS: Total Number of Rides/SIZE:Total Drivers Per City - Suburban\n",
    "avg_fare_suburban = suburban_city.groupby(\"city\")['fare'].mean()\n",
    "total_rides_suburban = suburban_city.groupby(\"city\")[\"ride_id\"].count()\n",
    "total_drivers_suburban = suburban_city.groupby(\"city\")['driver_count'].value_counts()\n",
    "\n",
    "#Y AXIS: Average Fare/X AXIS: Total Number of Rides/SIZE:Total Drivers Per City - Rural\n",
    "avg_fare_rural = rural_city.groupby(\"city\")['fare'].mean()\n",
    "total_rides_rural = rural_city.groupby(\"city\")[\"ride_id\"].count()\n",
    "total_drivers_rural = rural_city.groupby(\"city\")['driver_count'].value_counts()\n"
   ]
  },
  {
   "cell_type": "code",
   "execution_count": 40,
   "metadata": {},
   "outputs": [
    {
     "data": {
      "text/plain": [
       "<matplotlib.legend.Legend at 0x23576130cf8>"
      ]
     },
     "execution_count": 40,
     "metadata": {},
     "output_type": "execute_result"
    },
    {
     "data": {
      "image/png": "[encoded data removed]",
      "text/plain": [
       "<Figure size 432x288 with 1 Axes>"
      ]
     },
     "metadata": {
      "needs_background": "light"
     },
     "output_type": "display_data"
    }
   ],
   "source": [
    "#Bubble Plot/plot in a scatter plot\n",
    "#URBAN - RED\n",
    "plt.scatter(total_rides_urban, avg_fare_urban,s=total_drivers_urban, alpha = 0.5,\n",
    "            marker ='o', facecolors =\"red\", edgecolors='black', label=\"Urban\")\n",
    "#SUBURBAN - BLUE\n",
    "plt.scatter(total_rides_suburban, avg_fare_suburban,s=total_drivers_suburban, alpha = 0.5,\n",
    "            marker ='o', facecolors =\"blue\", edgecolors='black', label=\"Urban\")\n",
    "\n",
    "#RURAL - YELLOW\n",
    "plt.scatter(total_rides_rural, avg_fare_rural,s=total_drivers_rural, alpha = 0.5,\n",
    "            marker ='o', facecolors =\"yellow\", edgecolors='black', label=\"Urban\")\n",
    "\n",
    "# TITLE\n",
    "plt.title(\"Pyber Ride Sharing Data (2016)\")\n",
    "# LABELS\n",
    "plt.xlabel(\"Total Numbers of Rides (Per City))\")\n",
    "plt.ylabel(\"Average Fare($)\")\n",
    "\n",
    "# lEGEND\n",
    "plt.legend(loc='upper right')\n",
    "\n",
    "#RESIZING\n",
    "#SAVE AS PNG"
   ]
  },
  {
   "cell_type": "code",
   "execution_count": null,
   "metadata": {},
   "outputs": [],
   "source": []
  }
 ],
 "metadata": {
  "kernelspec": {
   "display_name": "Python 3",
   "language": "python",
   "name": "python3"
  },
  "language_info": {
   "codemirror_mode": {
    "name": "ipython",
    "version": 3
   },
   "file_extension": ".py",
   "mimetype": "text/x-python",
   "name": "python",
   "nbconvert_exporter": "python",
   "pygments_lexer": "ipython3",
   "version": "3.7.0"
  }
 },
 "nbformat": 4,
 "nbformat_minor": 2
}
